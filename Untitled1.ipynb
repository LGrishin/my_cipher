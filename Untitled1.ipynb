{
 "cells": [
  {
   "cell_type": "markdown",
   "metadata": {},
   "source": [
    "# Шифрование сложением по модулю 2 и абсолютно стойкий шифр"
   ]
  },
  {
   "cell_type": "markdown",
   "metadata": {},
   "source": [
    "### XOR или побитовое сложение "
   ]
  },
  {
   "cell_type": "markdown",
   "metadata": {},
   "source": [
    "Пример операции Xor:\n",
    "$$101 \\oplus 110 \\sim\n",
    " \\frac{101}{110} = 011$$\n",
    " "
   ]
  },
  {
   "cell_type": "markdown",
   "metadata": {},
   "source": [
    "### Шифрование с помощью Xor"
   ]
  },
  {
   "cell_type": "markdown",
   "metadata": {},
   "source": [
    " $A = 1010100110$ - сообщение \n",
    " \n",
    " \n",
    " $B = 1100100011$ - ключ\n",
    " \n",
    " $C$ - зашифрованное сообщение \n",
    " \n",
    " $A \\oplus B = 1010100110 \\oplus 1100100011 = 0110000101 = C$\n",
    " \n",
    " $C \\oplus B = 1010100110 = A$"
   ]
  },
  {
   "cell_type": "markdown",
   "metadata": {},
   "source": [
    "### Одноразовые ключи шифрования и шифр Вернама"
   ]
  },
  {
   "cell_type": "markdown",
   "metadata": {},
   "source": [
    "Колд Шеннон доказал абсолютную криптографичесскую стойкость шифра Вермана\n",
    "\n",
    "\n",
    "**Минусы:**\n",
    "\n",
    "тяжело получить истинно случайною последовательность, надо использовать такие источники случайности как распад урана или белый шум\n",
    "\n",
    "\n",
    "фиксированная длина сообщения\n",
    "\n",
    "\n",
    "длина шифра должна быть не меншьше длины сообщения\n",
    "\n",
    "\n",
    "одноразовое использование тк\n",
    "\n",
    "\n",
    "$$(a \\oplus b) \\oplus (c \\oplus b) = (a \\oplus c) \\oplus (b \\oplus b) = a \\oplus c$$\n",
    "\n",
    "**Плюсы:**\n",
    "\n",
    "\n",
    "невозможно получить никакую информацию из зашифрованного сообщения (если ключ достаточно случайный)\n",
    "\n",
    "\n",
    "**Пример**\n",
    "\n",
    "$$01 = 01 \\oplus 00$$\n",
    "$$01 = 00 \\oplus 01$$\n",
    "$$01 = 10 \\oplus 11$$\n",
    "$$01 = 11 \\oplus 10$$\n",
    "\n",
    "\n",
    "Как можем видеть, перехваченное сообщение может быть получено из любого другого сообщения при определенном ключе, а так как ключ случайный, мы не можем из перехваченного сообщения получить какую-либо информацию об исходном."
   ]
  },
  {
   "cell_type": "markdown",
   "metadata": {},
   "source": [
    "### Абсолютно стойкий шифр\n",
    "\n",
    "Ключ генерируется для каждого сообщения (каждый ключ используется только один раз)\n",
    "\n",
    "\n",
    "Ключ статистически надёжен (то есть вероятности появления каждого из возможных символов равны, символы в ключевой последовательности независимы и случайны)\n",
    "\n",
    "\n",
    "Длина ключа не меньше длины сообщения\n",
    "\n",
    "\n",
    "Исходный (открытый) текст обладает некоторой избыточностью (что является критерием оценки правильности расшифровки)\n"
   ]
  },
  {
   "cell_type": "markdown",
   "metadata": {},
   "source": [
    "## Генератор псевдослучайных чисел"
   ]
  },
  {
   "cell_type": "markdown",
   "metadata": {},
   "source": [
    "### Генератор с зерном генерации (seed)\n",
    "\n",
    "Преобразует $Seed$ при помощи определенного алгоритма в какое-то \"случайное\" число\n"
   ]
  },
  {
   "cell_type": "markdown",
   "metadata": {},
   "source": [
    "## Идея создания цепочки псевдослучайных чисел"
   ]
  },
  {
   "cell_type": "markdown",
   "metadata": {},
   "source": [
    "берем в качестве seed'а число $a_0$ генерируем от него число $b_0$, если длина $b_0$ меньше длины сообщения, то генерируем от $b_0$ число  $b_1$\n",
    "\n",
    "повторяем до тех пор, пока не получим последовательность длины не меньше нашего сообщения\n",
    "\n",
    "благодаря этому мы можем договориться с кем-то о seed'е, и дальше использовать его для шифрования, указывая seed для следующего шифрования в зашифрованном сообщении"
   ]
  },
  {
   "cell_type": "code",
   "execution_count": 7,
   "metadata": {},
   "outputs": [
    {
     "name": "stdout",
     "output_type": "stream",
     "text": [
      "qsolk2gvacu1vql11\n",
      "bw0ywu4bc0lwunxur\n"
     ]
    }
   ],
   "source": [
    "from random import seed, randint\n",
    "\n",
    "\n",
    "class Secret:\n",
    "    string_1 = ''\n",
    "    bit_string_1 = ''\n",
    "    string_2 = ''\n",
    "    bit_string_2 = ''\n",
    "    encoded_string = ''\n",
    "    uncoded_string = ''\n",
    "\n",
    "    private_key = 0\n",
    "\n",
    "    my_dict = {}\n",
    "\n",
    "    def __init__(self):\n",
    "        self.my_dict = {\n",
    "            'a': '00000', 'b': '00001'\n",
    "            , 'c': '00010', 'd': '00011', 'e': '00100'\n",
    "            , 'f': '00101', 'g': '00110', 'h': '00111'\n",
    "            , 'i': '01000', 'j': '01001', 'k': '01010'\n",
    "            , 'l': '01011', 'm': '01100', 'n': '01101'\n",
    "            , 'o': '01110', 'p': '01111', 'q': '10000'\n",
    "            , 'r': '10001', 's': '10010', 't': '10011'\n",
    "            , 'u': '10100', 'y': '10101', 'z': '10110'\n",
    "            , '0': '10111', '1': '11000', '2': '11001'\n",
    "            , '3': '11010', '4': '11011', 'v': '11100'\n",
    "            , 'x': '11101', 'w': '11110', ' ': '11111'\n",
    "        }\n",
    "\n",
    "    def coder(self, uncoding_string, private_key):\n",
    "        self.private_key = private_key\n",
    "        self.string_1 = uncoding_string\n",
    "        self.bit_string_1 = self.bit_conversion(uncoding_string)\n",
    "        self.encoded_string = self.bit_xor(self.bit_string_1, self.rand_gen(len(self.bit_string_1), self.private_key))\n",
    "\n",
    "    def input_new_dict(self, new_dict):\n",
    "        self.my_dict = new_dict\n",
    "\n",
    "    def rand_gen(self, lenght, key):\n",
    "        seed(key)\n",
    "        p = randint(0, 100000)\n",
    "        bin_m = str(bin(p))\n",
    "        bin_m = bin_m[2::]\n",
    "\n",
    "        if lenght > len(bin_m):\n",
    "            bin_m += self.rand_gen(lenght - len(bin_m), p)\n",
    "            return bin_m\n",
    "        else:\n",
    "            return bin_m\n",
    "\n",
    "    def bit_conversion(self, string):\n",
    "        ans = ''\n",
    "        for c in string:\n",
    "            ans += self.my_dict[c]\n",
    "        return ans\n",
    "\n",
    "    def get_key(self, q):\n",
    "        for c in self.my_dict:\n",
    "            if self.my_dict[c] == q:\n",
    "                return c\n",
    "\n",
    "    def true_string(self, string):\n",
    "        ans = ''\n",
    "        for i in range(0, len(string), 5):\n",
    "            ans += self.get_key(string[i:i + 5])\n",
    "        return ans\n",
    "\n",
    "    def decoder(self, encoded_string, private_key):\n",
    "        self.string_2 = encoded_string\n",
    "        self.bit_string_2 = self.bit_conversion(encoded_string)\n",
    "        self.private_key = private_key\n",
    "        self.uncoded_string = self.true_string(self.bit_xor(self.bit_string_2,\n",
    "                                                       self.rand_gen(len(self.bit_string_2), self.private_key)))\n",
    "\n",
    "        \n",
    "    def bit_xor(self, s_1, key_string):\n",
    "        ans = ''\n",
    "        for i in range(len(s_1)):\n",
    "            ans += str(int(s_1[i]) ^ int(key_string[i]))\n",
    "        return ans\n",
    "\n",
    "\n",
    "    def get_encoded_string(self):\n",
    "        return self.true_string(self.encoded_string)\n",
    "\n",
    "    def get_uncoded_string(self):\n",
    "        return self.uncoded_string\n",
    "\n",
    "\n",
    "if __name__ == '__main__':\n",
    "    s = Secret()\n",
    "    s.coder('aaaauuuuuuuuuffff', 13)\n",
    "    print(s.get_encoded_string())\n",
    "    s1 = Secret()\n",
    "    s1.decoder(s.get_encoded_string(), 45)\n",
    "    print(s1.get_uncoded_string())\n"
   ]
  },
  {
   "cell_type": "markdown",
   "metadata": {},
   "source": [
    "## Проблемы генераторов псевдослучайных чисел:\n",
    "\n",
    "**Наличие периода**\n",
    "\n",
    "**Последовательные значения не являются независимыми.**\n",
    "\n",
    "**Некоторые биты «менее случайны», чем другие.**\n",
    "\n",
    "**Неравномерное одномерное распределение.**\n",
    "\n",
    "**Обратимость.**\n"
   ]
  },
  {
   "cell_type": "markdown",
   "metadata": {},
   "source": [
    "## Требования к КСГПСЧ:\n",
    "\n",
    "**Тест на следующий бит**\n",
    "\n",
    "**Должен быть надежным даже в случае раскрытия всех его состояний**"
   ]
  },
  {
   "cell_type": "markdown",
   "metadata": {},
   "source": [
    "## Алгоритм Блюма — Микали - идеальный вариант\n",
    "\n",
    "Удовлетворяет требованиям КСГСПЧ\n",
    "\n",
    "Позволяет получить последовательность из $N$ бит используя $seed$"
   ]
  },
  {
   "cell_type": "code",
   "execution_count": 2,
   "metadata": {},
   "outputs": [
    {
     "name": "stdout",
     "output_type": "stream",
     "text": [
      "bplom1eac3w0x1n\n",
      "aaaaaaaaaaaaaaa\n"
     ]
    }
   ],
   "source": [
    "class Secret:\n",
    "    string_1 = ''\n",
    "    bit_string_1 = ''\n",
    "    string_2 = ''\n",
    "    bit_string_2 = ''\n",
    "    encoded_string = ''\n",
    "    uncoded_string = ''\n",
    "    p = 34319\n",
    "    g = 4\n",
    "\n",
    "    private_key = 0\n",
    "\n",
    "    my_dict = {\n",
    "        'a': '00000', 'b': '00001'\n",
    "        , 'c': '00010', 'd': '00011', 'e': '00100'\n",
    "        , 'f': '00101', 'g': '00110', 'h': '00111'\n",
    "        , 'i': '01000', 'j': '01001', 'k': '01010'\n",
    "        , 'l': '01011', 'm': '01100', 'n': '01101'\n",
    "        , 'o': '01110', 'p': '01111', 'q': '10000'\n",
    "        , 'r': '10001', 's': '10010', 't': '10011'\n",
    "        , 'u': '10100', 'y': '10101', 'z': '10110'\n",
    "        , '0': '10111', '1': '11000', '2': '11001'\n",
    "        , '3': '11010', '4': '11011', 'v': '11100'\n",
    "        , 'x': '11101', 'w': '11110', ' ': '11111'\n",
    "    }\n",
    "\n",
    "    def __init__(self):\n",
    "        pass\n",
    "\n",
    "    def coder(self, uncoding_string, private_key):\n",
    "        self.private_key = private_key\n",
    "        self.string_1 = uncoding_string\n",
    "        self.bit_string_1 = self.bit_conversion(uncoding_string)\n",
    "        self.encoded_string = self.bit_xor(self.bit_string_1, self.rand_gen(len(self.bit_string_1), self.private_key))\n",
    "\n",
    "    def input_new_dict(self, new_dict):\n",
    "        self.my_dict = new_dict\n",
    "\n",
    "    def rand_gen(self, lenght, key):\n",
    "        return self.generateNBits(lenght, key)\n",
    "\n",
    "    def bit_conversion(self, string):\n",
    "        ans = ''\n",
    "        for c in string:\n",
    "            ans += self.my_dict[c]\n",
    "        return ans\n",
    "\n",
    "    def get_key(self, q):\n",
    "        for c in self.my_dict:\n",
    "            if self.my_dict[c] == q:\n",
    "                return c\n",
    "\n",
    "    def true_string(self, string):\n",
    "        ans = ''\n",
    "        for i in range(0, len(string), 5):\n",
    "            ans += self.get_key(string[i:i + 5])\n",
    "        return ans\n",
    "\n",
    "    def decoder(self, encoded_string, private_key):\n",
    "        self.string_2 = encoded_string\n",
    "        self.bit_string_2 = self.bit_conversion(encoded_string)\n",
    "        self.private_key = private_key\n",
    "        self.uncoded_string = self.true_string(self.bit_xor(\n",
    "            self.bit_string_2, self.rand_gen(len(self.bit_string_2), self.private_key)))\n",
    "\n",
    "    def fastExp(self, n, p, mod):\n",
    "        res = 1\n",
    "        while p:\n",
    "            if p & 1:\n",
    "                res = (res * n) % mod\n",
    "            n = (n * n) % mod\n",
    "            p >>= 1\n",
    "        return res\n",
    "\n",
    "    def generateNBits(self, n, x):\n",
    "        a, bit, res = 0, 0, ''\n",
    "        p1, g1 = self.p, self.g\n",
    "        for i in range(n):\n",
    "            a = self.fastExp(g1, x, p1)\n",
    "            if a > (p1 - 1) / 2:\n",
    "                bit = 1\n",
    "            else:\n",
    "                bit = 0\n",
    "            res += str(bit)\n",
    "            x = a\n",
    "        return res\n",
    "\n",
    "    def bit_xor(self, s_1, key_string):\n",
    "        ans = ''\n",
    "        for i in range(len(s_1)):\n",
    "            ans += str(int(s_1[i]) ^ int(key_string[i]))\n",
    "        return ans\n",
    "\n",
    "    def get_encoded_string(self):\n",
    "        return self.true_string(self.encoded_string)\n",
    "\n",
    "    def get_uncoded_string(self):\n",
    "        return self.uncoded_string\n",
    "\n",
    "\n",
    "if __name__ == '__main__':\n",
    "    s = Secret()\n",
    "    s.coder('aaaaaaaaaaaaaaa', 13)\n",
    "    print(s.get_encoded_string())\n",
    "    s1 = Secret()\n",
    "    s1.decoder(s.get_encoded_string(), 13)\n",
    "    print(s1.get_uncoded_string())"
   ]
  },
  {
   "cell_type": "markdown",
   "metadata": {},
   "source": [
    "$p$ - Простое число\n",
    "\n",
    "$g$ - Первообразный корень по модулю $p$"
   ]
  },
  {
   "cell_type": "markdown",
   "metadata": {},
   "source": [
    "Преобразование строки в битовый вид:"
   ]
  },
  {
   "cell_type": "code",
   "execution_count": 3,
   "metadata": {},
   "outputs": [
    {
     "name": "stdout",
     "output_type": "stream",
     "text": [
      "100001111000100100011001110101\n"
     ]
    }
   ],
   "source": [
    "    q = s.bit_conversion('qwerty')\n",
    "    print(q)"
   ]
  },
  {
   "cell_type": "markdown",
   "metadata": {},
   "source": [
    "Генерация шифрующей последовательности от зерна:    "
   ]
  },
  {
   "cell_type": "code",
   "execution_count": 4,
   "metadata": {},
   "outputs": [
    {
     "name": "stdout",
     "output_type": "stream",
     "text": [
      "101000010011001100110000001011\n"
     ]
    }
   ],
   "source": [
    "    key = s.rand_gen(len(q), 12)\n",
    "    print(key)"
   ]
  },
  {
   "cell_type": "markdown",
   "metadata": {},
   "source": [
    "Побитовое сложение сообщения и шифрующей последовательности:"
   ]
  },
  {
   "cell_type": "code",
   "execution_count": 5,
   "metadata": {},
   "outputs": [
    {
     "name": "stdout",
     "output_type": "stream",
     "text": [
      "001001101011101000101001111110\n"
     ]
    }
   ],
   "source": [
    "    print(s.bit_xor(q, key))"
   ]
  },
  {
   "cell_type": "markdown",
   "metadata": {},
   "source": [
    "Перевод в более компактный вид"
   ]
  },
  {
   "cell_type": "code",
   "execution_count": 6,
   "metadata": {},
   "outputs": [
    {
     "name": "stdout",
     "output_type": "stream",
     "text": [
      "e3xctw\n"
     ]
    }
   ],
   "source": [
    "    print(s.true_string(s.bit_xor(q, key)))"
   ]
  }
 ],
 "metadata": {
  "kernelspec": {
   "display_name": "Python 3",
   "language": "python",
   "name": "python3"
  },
  "language_info": {
   "codemirror_mode": {
    "name": "ipython",
    "version": 3
   },
   "file_extension": ".py",
   "mimetype": "text/x-python",
   "name": "python",
   "nbconvert_exporter": "python",
   "pygments_lexer": "ipython3",
   "version": "3.7.6"
  }
 },
 "nbformat": 4,
 "nbformat_minor": 4
}
